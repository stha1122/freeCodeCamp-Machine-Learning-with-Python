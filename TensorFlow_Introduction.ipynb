{
  "nbformat": 4,
  "nbformat_minor": 0,
  "metadata": {
    "colab": {
      "provenance": [],
      "toc_visible": true,
      "authorship_tag": "ABX9TyM5c7o1um2Z7zMolGpVl67f",
      "include_colab_link": true
    },
    "kernelspec": {
      "name": "python3",
      "display_name": "Python 3"
    },
    "language_info": {
      "name": "python"
    }
  },
  "cells": [
    {
      "cell_type": "markdown",
      "metadata": {
        "id": "view-in-github",
        "colab_type": "text"
      },
      "source": [
        "<a href=\"https://colab.research.google.com/github/stha1122/Machine_Learning_with_Python/blob/main/TensorFlow_Introduction.ipynb\" target=\"_parent\"><img src=\"https://colab.research.google.com/assets/colab-badge.svg\" alt=\"Open In Colab\"/></a>"
      ]
    },
    {
      "cell_type": "markdown",
      "source": [
        "# **Tensors**\n",
        "\n",
        "\"A tensor is a generalization of vectors and matrices to potentially higher dimensions. Internally, TensorFlow represents tensors as n-dimensional arrays of base datatypes.\" (https://www.tensorflow.org/guide/tensor)\n",
        "\n",
        "It should't surprise you that tensors are a fundemental apsect of TensorFlow. They are the main objects that are passed around and manipluated throughout the program. Each tensor represents a partialy defined computation that will eventually produce a value. TensorFlow programs work by building a graph of Tensor objects that details how tensors are related. Running different parts of the graph allow results to be generated."
      ],
      "metadata": {
        "id": "3av6rdqe4sJd"
      }
    },
    {
      "cell_type": "markdown",
      "source": [
        "Each tensor has a data type and a shape.\n",
        "\n",
        "**Data Types Include**: float32, int32, string and others.\n",
        "\n",
        "Shape: Represents the dimension of data.\n",
        "\n",
        "Just like vectors and matrices tensors can have operations applied to them like addition, subtraction, dot product, cross product etc.\n",
        "\n",
        "In the next sections we will discuss some different properties of tensors. This is to make you more familiar with how tensorflow represnts data and how you can manipulate this data."
      ],
      "metadata": {
        "id": "oEvogF9b43_q"
      }
    },
    {
      "cell_type": "markdown",
      "source": [
        "Below is an example of how to create some different *tensors*"
      ],
      "metadata": {
        "id": "repKhBOzfS5I"
      }
    },
    {
      "cell_type": "code",
      "source": [
        "import tensorflow as tf"
      ],
      "metadata": {
        "id": "T4LtMtYhgSfm"
      },
      "execution_count": 2,
      "outputs": []
    },
    {
      "cell_type": "code",
      "execution_count": 3,
      "metadata": {
        "id": "qaOTq9_UdVr0"
      },
      "outputs": [],
      "source": [
        "string = tf.Variable(\"this is a string\",tf.string)\n",
        "number = tf.Variable(324,tf.int16)\n",
        "floating = tf.Variable(3.567,tf.float64)"
      ]
    },
    {
      "cell_type": "markdown",
      "source": [
        "## **Rank/Degree of Tensors**\n",
        "\n",
        "Another word for rank is degree,these terms simply mean the number of dimensions invovled in the tensor.What we created above is a tensor of rank 0,also known as a scalar.\n",
        "\n",
        "Now we'll create some tensors of higher degrees/ranks."
      ],
      "metadata": {
        "id": "T08gbe_xgZfE"
      }
    },
    {
      "cell_type": "code",
      "source": [
        "rank1_tensor = tf.Variable([\"Test\",\"ok\",\"learn\"],tf.string)\n",
        "rank2_tensor = tf.Variable([[\"test\",\"ok\",\"ko\"],[\"test\",\"yes\",\"ko\"]],tf.string)"
      ],
      "metadata": {
        "id": "pcOvqtmNfkOs"
      },
      "execution_count": 19,
      "outputs": []
    },
    {
      "cell_type": "markdown",
      "source": [
        "To **determine the rank** of tensor we can call the following method."
      ],
      "metadata": {
        "id": "N69k6KQpiboI"
      }
    },
    {
      "cell_type": "code",
      "source": [
        "print(tf.rank(number))\n",
        "print(tf.rank(rank1_tensor))\n",
        "print(tf.rank(rank2_tensor))"
      ],
      "metadata": {
        "colab": {
          "base_uri": "https://localhost:8080/"
        },
        "id": "peLX2-LOheSj",
        "outputId": "0d9e4da6-5287-4721-adb8-339dc018a42e"
      },
      "execution_count": 20,
      "outputs": [
        {
          "output_type": "stream",
          "name": "stdout",
          "text": [
            "tf.Tensor(0, shape=(), dtype=int32)\n",
            "tf.Tensor(1, shape=(), dtype=int32)\n",
            "tf.Tensor(2, shape=(), dtype=int32)\n"
          ]
        }
      ]
    },
    {
      "cell_type": "markdown",
      "source": [
        "## **Shape of Tensors**\n",
        "\n",
        "Now that we've seen about the rank of tensors it's time to talk about the shape.The shape of a tensor is simply the amount of elements that exist in each dimension.TensorFlow will try to determine the shape of tensor but sometimes it may be unkonwn.\n",
        "\n",
        "To **get the shape** of a tensor we use the shape attribute."
      ],
      "metadata": {
        "id": "H02LQKNJjP_0"
      }
    },
    {
      "cell_type": "code",
      "source": [
        "print(number.shape)\n",
        "print(rank1_tensor.shape)\n",
        "print(rank2_tensor.shape)"
      ],
      "metadata": {
        "colab": {
          "base_uri": "https://localhost:8080/"
        },
        "id": "M22Iy5TFi0YF",
        "outputId": "263260d3-abd4-4842-906c-2bc4b21e8aa5"
      },
      "execution_count": 21,
      "outputs": [
        {
          "output_type": "stream",
          "name": "stdout",
          "text": [
            "()\n",
            "(3,)\n",
            "(2, 3)\n"
          ]
        }
      ]
    },
    {
      "cell_type": "markdown",
      "source": [
        "## **Change Shape**\n",
        "The number of elements of a tensor is the product of the sizes of all its shapes.There are often many shapes that have the same number of elements,making it convient to be able to change the shape of a tensor.\n",
        "\n",
        "The example below shows how to change the shape of a tensor."
      ],
      "metadata": {
        "id": "f74kM-v8lqyh"
      }
    },
    {
      "cell_type": "code",
      "source": [
        "tensor1 = tf.ones([1,2,3]) #tf.ones() creates a shape [1,2,3] tensor full of ones.\n",
        "tensor2 = tf.reshape(tensor1,[2,3,1]) # reshape existing data to shape [2,3,1]\n",
        "tensor3 = tf.reshape(tensor2, [3,-1]) # -1 tells the tensor to calculate the size of the dimension in that place\n",
        "                                      # this will reshape the tensor to [3,2]\n",
        "\n",
        "# The number of elemnts in the reshaped tensor MUST match the number in the original\n"
      ],
      "metadata": {
        "id": "_CuqzLjRkOGQ"
      },
      "execution_count": 22,
      "outputs": []
    },
    {
      "cell_type": "markdown",
      "source": [
        "Now let's have a look at our different tensors"
      ],
      "metadata": {
        "id": "v_1KAzm_n5l_"
      }
    },
    {
      "cell_type": "code",
      "source": [
        "print(tensor1)\n",
        "print(tensor2)\n",
        "print(tensor3)"
      ],
      "metadata": {
        "colab": {
          "base_uri": "https://localhost:8080/"
        },
        "id": "0WpO7hJ0n4hI",
        "outputId": "28aff1aa-c5da-483a-abf7-f09d1ab67aeb"
      },
      "execution_count": 23,
      "outputs": [
        {
          "output_type": "stream",
          "name": "stdout",
          "text": [
            "tf.Tensor(\n",
            "[[[1. 1. 1.]\n",
            "  [1. 1. 1.]]], shape=(1, 2, 3), dtype=float32)\n",
            "tf.Tensor(\n",
            "[[[1.]\n",
            "  [1.]\n",
            "  [1.]]\n",
            "\n",
            " [[1.]\n",
            "  [1.]\n",
            "  [1.]]], shape=(2, 3, 1), dtype=float32)\n",
            "tf.Tensor(\n",
            "[[1. 1.]\n",
            " [1. 1.]\n",
            " [1. 1.]], shape=(3, 2), dtype=float32)\n"
          ]
        }
      ]
    },
    {
      "cell_type": "markdown",
      "source": [
        "## Types of tensors\n",
        "There are different types of tensors.These are the most commonly used.\n",
        "\n",
        "\n",
        "\n",
        "*   Variable\n",
        "*   Constant\n",
        "*   Placeholder\n",
        "*   SparseTensor\n",
        "\n",
        "With the execption of Variable all of these tensors are immuttable,meaning their value may not change during execution.\n",
        "\n",
        "\n",
        "\n"
      ],
      "metadata": {
        "id": "0OT6QtnpwwiO"
      }
    },
    {
      "cell_type": "markdown",
      "source": [
        "## **Evaluating Tensors**\n",
        "Evaluating the Tensors in other words ,get its value.Since tensors represent a partially complete computation we will sometimes need to run what's called a session to evaluate the tensor.\n",
        "\n",
        "There are many diiferent ways to achieve this but I will note the simplest way\n"
      ],
      "metadata": {
        "id": "elgVkzaazul7"
      }
    },
    {
      "cell_type": "code",
      "source": [
        "# with tf.Session() as sess: # creates a session using the default graph\n",
        "#   tensor.eval()            # tensor will be name of tensor"
      ],
      "metadata": {
        "id": "1GMDPcfVoDeO"
      },
      "execution_count": 25,
      "outputs": []
    }
  ]
}